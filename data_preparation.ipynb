{
 "cells": [
  {
   "cell_type": "markdown",
   "id": "1f8010c4",
   "metadata": {},
   "source": [
    "# Importing libraries and preparing functions"
   ]
  },
  {
   "cell_type": "code",
   "execution_count": 1,
   "id": "18e50109",
   "metadata": {},
   "outputs": [],
   "source": [
    "import numpy as np\n",
    "from skimage import io\n",
    "from skimage.transform import resize\n",
    "import random\n",
    "import pickle\n",
    "import cv2"
   ]
  },
  {
   "cell_type": "code",
   "execution_count": 2,
   "id": "4358be92",
   "metadata": {},
   "outputs": [],
   "source": [
    "def get_img(data_path):\n",
    "    # Getting image array from data_path:\n",
    "    img_size = 60\n",
    "    img = io.imread(data_path)\n",
    "    img = cv2.cvtColor(img, cv2.COLOR_BGR2GRAY)\n",
    "    img = resize(img, (img_size, img_size))\n",
    "    return img"
   ]
  },
  {
   "cell_type": "code",
   "execution_count": 3,
   "id": "bc07d76e",
   "metadata": {},
   "outputs": [],
   "source": [
    "def index(s):\n",
    "    a=0\n",
    "    if s=='cat' :\n",
    "        a=1\n",
    "    return a"
   ]
  },
  {
   "cell_type": "markdown",
   "id": "3087ba5d",
   "metadata": {},
   "source": [
    "# loading data "
   ]
  },
  {
   "cell_type": "code",
   "execution_count": 4,
   "id": "28fc259a",
   "metadata": {},
   "outputs": [],
   "source": [
    "f=open(\"Train_Data/indices.txt\",\"r\")\n",
    "L1=[i.strip() for i in f.readlines()]\n",
    "f.close()\n",
    "data=[]\n",
    "for i in L1 :\n",
    "    img=get_img(i)\n",
    "    data.append([img,index(i[11:14])])\n",
    "            \n",
    "random.shuffle(data)"
   ]
  },
  {
   "cell_type": "code",
   "execution_count": 5,
   "id": "3bc85809",
   "metadata": {},
   "outputs": [],
   "source": [
    "X=[]\n",
    "y=[]\n",
    "\n",
    "for f , l in data:\n",
    "    X.append(f)\n",
    "    y.append(l)"
   ]
  },
  {
   "cell_type": "code",
   "execution_count": 6,
   "id": "9a52a180",
   "metadata": {},
   "outputs": [],
   "source": [
    "X=np.array(X)\n",
    "y=np.array(y)"
   ]
  },
  {
   "cell_type": "markdown",
   "id": "8e56cfc4",
   "metadata": {},
   "source": [
    "# Save the data in pickle files to use them in the modelling"
   ]
  },
  {
   "cell_type": "code",
   "execution_count": 7,
   "id": "7037af6b",
   "metadata": {},
   "outputs": [],
   "source": [
    "pickle.dump(X,open(\"Train_Data/X.pkl\",'wb'))\n",
    "pickle.dump(y,open(\"Train_Data/y.pkl\",'wb'))"
   ]
  }
 ],
 "metadata": {
  "kernelspec": {
   "display_name": "Python 3",
   "language": "python",
   "name": "python3"
  },
  "language_info": {
   "codemirror_mode": {
    "name": "ipython",
    "version": 3
   },
   "file_extension": ".py",
   "mimetype": "text/x-python",
   "name": "python",
   "nbconvert_exporter": "python",
   "pygments_lexer": "ipython3",
   "version": "3.8.8"
  }
 },
 "nbformat": 4,
 "nbformat_minor": 5
}
