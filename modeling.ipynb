{
  "cells": [
    {
      "cell_type": "markdown",
      "id": "1f8010c4",
      "metadata": {},
      "source": [
        "# Importing libraries"
      ]
    },
    {
      "cell_type": "code",
      "execution_count": 1,
      "metadata": {
        "id": "tfR0cbFJFuP7"
      },
      "outputs": [],
      "source": [
        "import pickle\n",
        "import cv2\n",
        "import numpy as np\n",
        "import keras\n",
        "import warnings\n",
        "warnings.filterwarnings(\"ignore\")"
      ]
    },
    {
      "cell_type": "markdown",
      "metadata": {},
      "source": [
        "# Loading data "
      ]
    },
    {
      "cell_type": "code",
      "execution_count": 2,
      "metadata": {
        "id": "DmqErI0LHM7l"
      },
      "outputs": [],
      "source": [
        "X=pickle.load(open('Train_Data/X.pkl','rb'))\n",
        "y=pickle.load(open('Train_Data/y.pkl','rb'))"
      ]
    },
    {
      "cell_type": "code",
      "execution_count": 3,
      "metadata": {
        "id": "pK72PobAHnX2"
      },
      "outputs": [],
      "source": [
        "X=X/255"
      ]
    },
    {
      "cell_type": "code",
      "execution_count": 4,
      "metadata": {
        "colab": {
          "base_uri": "https://localhost:8080/"
        },
        "id": "hz37Zf2FHr48",
        "outputId": "3bd963f3-c851-4679-f413-a23eb7583684"
      },
      "outputs": [
        {
          "data": {
            "text/plain": [
              "(1383, 60, 60)"
            ]
          },
          "execution_count": 4,
          "metadata": {},
          "output_type": "execute_result"
        }
      ],
      "source": [
        "X.shape"
      ]
    },
    {
      "cell_type": "code",
      "execution_count": 5,
      "metadata": {
        "id": "bVIoQRN3nPWE"
      },
      "outputs": [],
      "source": [
        "X = X.reshape(-1, 60, 60, 1)"
      ]
    },
    {
      "cell_type": "markdown",
      "metadata": {},
      "source": [
        "# Modelling using keras "
      ]
    },
    {
      "cell_type": "code",
      "execution_count": 6,
      "metadata": {
        "id": "PIMYi07NIS0k"
      },
      "outputs": [],
      "source": [
        "from keras.models import Sequential\n",
        "from keras.layers import Conv2D, MaxPooling2D, Flatten, Dense"
      ]
    },
    {
      "cell_type": "code",
      "execution_count": 7,
      "metadata": {
        "id": "KwK2B41pVsAP"
      },
      "outputs": [],
      "source": [
        "model=Sequential()\n",
        "\n",
        "model.add(Conv2D(64,(3,3), activation=\"sigmoid\"))\n",
        "model.add(MaxPooling2D(2,2))\n",
        "\n",
        "model.add(Conv2D(64,(3,3), activation=\"relu\"))\n",
        "model.add(MaxPooling2D(2,2))\n",
        "\n",
        "model.add(Flatten())\n",
        "\n",
        "model.add(Dense(128, input_shape=X.shape[1:],activation='relu'))\n",
        "\n",
        "model.add(Dense(2,activation='softmax'))"
      ]
    },
    {
      "cell_type": "code",
      "execution_count": 8,
      "metadata": {
        "id": "UqbJ6wmVV0LB"
      },
      "outputs": [],
      "source": [
        "model.compile(optimizer=\"SGD\",\n",
        "              loss=\"sparse_categorical_crossentropy\",\n",
        "              metrics=['accuracy'],\n",
        "              run_eagerly=True)"
      ]
    },
    {
      "cell_type": "code",
      "execution_count": 9,
      "metadata": {
        "colab": {
          "base_uri": "https://localhost:8080/"
        },
        "id": "mTbTPehnV23b",
        "outputId": "eabb2f58-959b-4be0-e18d-9caba248ee3a"
      },
      "outputs": [
        {
          "name": "stdout",
          "output_type": "stream",
          "text": [
            "Epoch 1/5\n",
            "39/39 [==============================] - 16s 415ms/step - loss: 0.7355 - accuracy: 0.4871 - val_loss: 0.6940 - val_accuracy: 0.4748\n",
            "Epoch 2/5\n",
            "39/39 [==============================] - 14s 344ms/step - loss: 0.6951 - accuracy: 0.5113 - val_loss: 0.6954 - val_accuracy: 0.4748\n",
            "Epoch 3/5\n",
            "39/39 [==============================] - 12s 320ms/step - loss: 0.6944 - accuracy: 0.5000 - val_loss: 0.6923 - val_accuracy: 0.5252\n",
            "Epoch 4/5\n",
            "39/39 [==============================] - 12s 319ms/step - loss: 0.6951 - accuracy: 0.4807 - val_loss: 0.6934 - val_accuracy: 0.4748\n",
            "Epoch 5/5\n",
            "39/39 [==============================] - 12s 312ms/step - loss: 0.6916 - accuracy: 0.5402 - val_loss: 0.6920 - val_accuracy: 0.5252\n"
          ]
        },
        {
          "data": {
            "text/plain": [
              "<keras.callbacks.History at 0x7f724782e2d0>"
            ]
          },
          "execution_count": 9,
          "metadata": {},
          "output_type": "execute_result"
        }
      ],
      "source": [
        "model.fit(X,y,epochs=5,validation_split=0.1,batch_size=32)"
      ]
    },
    {
      "cell_type": "markdown",
      "metadata": {},
      "source": [
        "# Save the model \n",
        "#### This step is optional, just to make the model usful any where not only in this notebook"
      ]
    },
    {
      "cell_type": "code",
      "execution_count": 10,
      "metadata": {
        "id": "6tBCiO6LV_Ee"
      },
      "outputs": [],
      "source": [
        "model.save('cat_dog.model')"
      ]
    },
    {
      "cell_type": "code",
      "execution_count": 11,
      "metadata": {
        "id": "KaVVhmgSoyHl"
      },
      "outputs": [],
      "source": [
        "model = keras.models.load_model('cat_dog.model')"
      ]
    },
    {
      "cell_type": "markdown",
      "metadata": {},
      "source": [
        "# Testing the model"
      ]
    },
    {
      "cell_type": "code",
      "execution_count": 12,
      "metadata": {
        "id": "wepn1impn7Dg"
      },
      "outputs": [],
      "source": [
        "CATEGORIES = ['Dog', 'Cat']\n",
        "\n",
        "def image(path):\n",
        "    img = cv2.imread(path, cv2.IMREAD_GRAYSCALE)\n",
        "    new_arr = cv2.resize(img, (60, 60))\n",
        "    new_arr = np.array(new_arr)\n",
        "    new_arr = new_arr.reshape(-1, 60, 60, 1)\n",
        "    return new_arr"
      ]
    },
    {
      "cell_type": "code",
      "execution_count": 13,
      "metadata": {
        "id": "MIpBGn-PnpmL"
      },
      "outputs": [],
      "source": [
        "img1=image('puppy.jpg')"
      ]
    },
    {
      "cell_type": "markdown",
      "metadata": {},
      "source": [
        "<img src=\"puppy.jpg\">"
      ]
    },
    {
      "cell_type": "code",
      "execution_count": 15,
      "metadata": {
        "colab": {
          "base_uri": "https://localhost:8080/"
        },
        "id": "GdHP9Yzlnxxk",
        "outputId": "d844394b-fa27-42a2-96f1-28fbd3b86f76"
      },
      "outputs": [
        {
          "name": "stdout",
          "output_type": "stream",
          "text": [
            "Dog\n"
          ]
        }
      ],
      "source": [
        "prediction = model.predict([img1])\n",
        "print(CATEGORIES[prediction.argmax()])"
      ]
    },
    {
      "cell_type": "code",
      "execution_count": 16,
      "metadata": {
        "id": "VWmevVZXoMBn"
      },
      "outputs": [],
      "source": [
        "img2=image('minou.jpg')"
      ]
    },
    {
      "cell_type": "markdown",
      "metadata": {},
      "source": [
        "<img src=\"minou.jpg\">"
      ]
    },
    {
      "cell_type": "code",
      "execution_count": 17,
      "metadata": {
        "colab": {
          "base_uri": "https://localhost:8080/"
        },
        "id": "P5VniGfEpTLn",
        "outputId": "e81a7b10-8513-4c27-b324-2ce7b1978afd"
      },
      "outputs": [
        {
          "name": "stdout",
          "output_type": "stream",
          "text": [
            "Cat\n"
          ]
        }
      ],
      "source": [
        "prediction = model.predict([img2])\n",
        "print(CATEGORIES[prediction.argmax()])"
      ]
    }
  ],
  "metadata": {
    "colab": {
      "provenance": []
    },
    "kernelspec": {
      "display_name": "Python 3",
      "name": "python3"
    },
    "language_info": {
      "name": "python"
    }
  },
  "nbformat": 4,
  "nbformat_minor": 0
}
